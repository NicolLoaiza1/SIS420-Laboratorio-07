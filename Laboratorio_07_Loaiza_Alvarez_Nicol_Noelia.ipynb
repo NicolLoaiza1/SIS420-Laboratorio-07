{
  "cells": [
    {
      "cell_type": "markdown",
      "metadata": {
        "id": "view-in-github",
        "colab_type": "text"
      },
      "source": [
        "<a href=\"https://colab.research.google.com/github/NicolLoaiza1/SIS420-Laboratorio-07/blob/main/Laboratorio_07_Loaiza_Alvarez_Nicol_Noelia.ipynb\" target=\"_parent\"><img src=\"https://colab.research.google.com/assets/colab-badge.svg\" alt=\"Open In Colab\"/></a>"
      ]
    },
    {
      "cell_type": "code",
      "source": [
        "# Loaiza Alvarez Nicol Noelia"
      ],
      "metadata": {
        "id": "H6bDfRRfKWeV"
      },
      "execution_count": 186,
      "outputs": []
    },
    {
      "cell_type": "code",
      "source": [
        "from google.colab import drive\n",
        "drive.mount('/content/drive')"
      ],
      "metadata": {
        "colab": {
          "base_uri": "https://localhost:8080/"
        },
        "id": "fRZfEhVdIOGm",
        "outputId": "143686da-ee5a-44da-e2a2-3b161eae3d70"
      },
      "execution_count": 187,
      "outputs": [
        {
          "output_type": "stream",
          "name": "stdout",
          "text": [
            "Drive already mounted at /content/drive; to attempt to forcibly remount, call drive.mount(\"/content/drive\", force_remount=True).\n"
          ]
        }
      ]
    },
    {
      "cell_type": "code",
      "execution_count": 188,
      "metadata": {
        "id": "cw34P56cIIc_"
      },
      "outputs": [],
      "source": [
        "import os\n",
        "import numpy as np\n",
        "import pandas as pd\n",
        "from matplotlib import pyplot\n",
        "from mpl_toolkits.mplot3d import Axes3D \n",
        "%matplotlib inline"
      ]
    },
    {
      "cell_type": "code",
      "execution_count": 189,
      "metadata": {
        "colab": {
          "base_uri": "https://localhost:8080/"
        },
        "id": "99NPnTlkIIdC",
        "outputId": "3c9594a3-e491-43fc-dfdb-4a00dc913b56"
      },
      "outputs": [
        {
          "output_type": "stream",
          "name": "stdout",
          "text": [
            "[120. 132. 133. ... 140. 140. 142.]\n",
            "---------------------------------------------\n",
            "[2. 1. 1. ... 2. 2. 1.]\n",
            "---------------------------------------------\n",
            "2126\n"
          ]
        }
      ],
      "source": [
        "data = pd.read_csv(('/content/drive/MyDrive/SIS 420 Dataset/Dataset.csv'),delimiter=',')\n",
        "data = np.array(data)\n",
        "X = data[:, 0]\n",
        "y = data[:, 21]\n",
        "m = y.size \n",
        "\n",
        "print(X)\n",
        "print('-'*45)\n",
        "print(y)\n",
        "print('-'*45)\n",
        "print(m)\n"
      ]
    },
    {
      "cell_type": "code",
      "execution_count": 190,
      "metadata": {
        "id": "w1hl9w_OIIdF"
      },
      "outputs": [],
      "source": [
        "def Graficar(X, y):\n",
        "    fig = pyplot.figure() \n",
        "    pyplot.plot(X, y, 'g*', ms=10)\n",
        "    pyplot.ylabel('Salud fetal')\n",
        "    pyplot.xlabel('Valor de referencia')\n"
      ]
    },
    {
      "cell_type": "code",
      "execution_count": 191,
      "metadata": {
        "id": "flheWDkzIIdG",
        "colab": {
          "base_uri": "https://localhost:8080/",
          "height": 279
        },
        "outputId": "2c7fbd02-d331-45f3-efd5-f3d75c4bf38a"
      },
      "outputs": [
        {
          "output_type": "display_data",
          "data": {
            "text/plain": [
              "<Figure size 432x288 with 1 Axes>"
            ],
            "image/png": "[encoded data removed]"
          },
          "metadata": {
            "needs_background": "light"
          }
        }
      ],
      "source": [
        "Graficar(X, y)"
      ]
    },
    {
      "cell_type": "code",
      "execution_count": 192,
      "metadata": {
        "id": "tiSyfol5IIdH"
      },
      "outputs": [],
      "source": [
        "X = np.stack([np.ones(m), X], axis=1)"
      ]
    },
    {
      "cell_type": "code",
      "source": [
        "print(X)"
      ],
      "metadata": {
        "colab": {
          "base_uri": "https://localhost:8080/"
        },
        "id": "xcqg9S0hxJzD",
        "outputId": "e7f43343-8155-4ea1-e0f1-a4508a114844"
      },
      "execution_count": 193,
      "outputs": [
        {
          "output_type": "stream",
          "name": "stdout",
          "text": [
            "[[  1. 120.]\n",
            " [  1. 132.]\n",
            " [  1. 133.]\n",
            " ...\n",
            " [  1. 140.]\n",
            " [  1. 140.]\n",
            " [  1. 142.]]\n"
          ]
        }
      ]
    },
    {
      "cell_type": "code",
      "execution_count": 194,
      "metadata": {
        "id": "8ZEvx07hIIdI"
      },
      "outputs": [],
      "source": [
        "def computeCost(X, y, theta):\n",
        "    m = X.size \n",
        "    J = 0\n",
        "    h = np.dot(X, theta)\n",
        "    J = (1/(2 * m)) * np.sum(np.square(np.dot(X, theta) - y))\n",
        "    return J"
      ]
    },
    {
      "cell_type": "code",
      "execution_count": 195,
      "metadata": {
        "id": "ay128fxhIIdJ",
        "colab": {
          "base_uri": "https://localhost:8080/"
        },
        "outputId": "91987929-23bc-45b8-ccad-4aca4980c2e8"
      },
      "outputs": [
        {
          "output_type": "stream",
          "name": "stdout",
          "text": [
            "Con theta = [0, 0] \n",
            " Costo calculado = 0.52\n",
            "Con theta = [-1, 2]\n",
            " Costo calculado = 17560.07\n"
          ]
        }
      ],
      "source": [
        "J = computeCost(X, y, theta=np.array([0.0, 0.0]))\n",
        "print('Con theta = [0, 0] \\n Costo calculado = %.2f' % J)\n",
        "\n",
        "J = computeCost(X, y, theta=np.array([-1, 2]))\n",
        "print('Con theta = [-1, 2]\\n Costo calculado = %.2f' % J)\n"
      ]
    },
    {
      "cell_type": "code",
      "source": [
        "def gradientDescent(X, y, theta, alpha, num_iters):  \n",
        "    m = y.shape[0]\n",
        "    theta = theta.copy()    \n",
        "    J_history = []    \n",
        "    for i in range(num_iters):\n",
        "        theta = theta - (alpha / m) * (np.dot(X, theta) - y).dot(X)\n",
        "        J_history.append(computeCost(X, y, theta))\n",
        "    \n",
        "    return theta, J_history"
      ],
      "metadata": {
        "id": "SH-h6ApVqrGq"
      },
      "execution_count": 196,
      "outputs": []
    },
    {
      "cell_type": "code",
      "source": [
        "# inicializa los parametros de ajuste\n",
        "theta = np.zeros(2)\n",
        "\n",
        "# configuraciones para el descenso por el gradiente\n",
        "iterations = 1000\n",
        "alpha = 0.000001\n",
        "\n",
        "theta, J_history = gradientDescent(X ,y, theta, alpha, iterations)\n",
        "print(J_history[-1])\n",
        "print('Theta encontrada por descenso gradiente: {:.4f}, {:.4f}'.format(*theta))\n"
      ],
      "metadata": {
        "colab": {
          "base_uri": "https://localhost:8080/"
        },
        "id": "Cfu48enDxvth",
        "outputId": "1b2ff494-665e-49ca-e04f-f7bf5a70c0b7"
      },
      "execution_count": 197,
      "outputs": [
        {
          "output_type": "stream",
          "name": "stdout",
          "text": [
            "0.09225701144374593\n",
            "Theta encontrada por descenso gradiente: 0.0001, 0.0098\n"
          ]
        }
      ]
    },
    {
      "cell_type": "code",
      "execution_count": 198,
      "metadata": {
        "id": "z1EZvN11IIdQ",
        "colab": {
          "base_uri": "https://localhost:8080/",
          "height": 279
        },
        "outputId": "f2630f20-bd31-495e-9bcf-cb928bdd1cc3"
      },
      "outputs": [
        {
          "output_type": "display_data",
          "data": {
            "text/plain": [
              "<Figure size 432x288 with 1 Axes>"
            ],
            "image/png": "[encoded data removed]"
          },
          "metadata": {
            "needs_background": "light"
          }
        }
      ],
      "source": [
        "# grafica la linea de ajuste\n",
        "Graficar(X[:, 1], y)\n",
        "pyplot.plot(X[:, 1], np.dot(X, theta), '-')\n",
        "pyplot.legend(['Datos de entrenamiento', 'Regresión linear']);"
      ]
    },
    {
      "cell_type": "code",
      "source": [
        "# Predecir valores de beneficio para poblaciones de 35,000 y 70,000\n",
        "predict1 = np.dot([1, 5], theta)\n",
        "print('La clasificación de salud fetal de 5 personas , se predice un precio  de {:.2f}\\n'.format(predict1*1000))\n",
        "\n",
        "predict2 = np.dot([1, 17], theta)\n",
        "print('La clasificación de salud fetal de 17 personas , se predice un precio  de {:.2f}\\n'.format(predict2*1000))"
      ],
      "metadata": {
        "colab": {
          "base_uri": "https://localhost:8080/"
        },
        "id": "uziNKzXcCu6R",
        "outputId": "6ee13694-e85f-4f1f-9eaa-d08dc19668f2"
      },
      "execution_count": 199,
      "outputs": [
        {
          "output_type": "stream",
          "name": "stdout",
          "text": [
            "La clasificación de salud fetal de 5 personas , se predice un precio  de 48.98\n",
            "\n",
            "La clasificación de salud fetal de 17 personas , se predice un precio  de 166.35\n",
            "\n"
          ]
        }
      ]
    }
  ],
  "metadata": {
    "kernelspec": {
      "display_name": "Python 3 (ipykernel)",
      "language": "python",
      "name": "python3"
    },
    "language_info": {
      "codemirror_mode": {
        "name": "ipython",
        "version": 3
      },
      "file_extension": ".py",
      "mimetype": "text/x-python",
      "name": "python",
      "nbconvert_exporter": "python",
      "pygments_lexer": "ipython3",
      "version": "3.9.12"
    },
    "colab": {
      "provenance": [],
      "include_colab_link": true
    }
  },
  "nbformat": 4,
  "nbformat_minor": 0
}